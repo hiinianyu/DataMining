{
  "cells": [
    {
      "cell_type": "code",
      "metadata": {},
      "source": [
        "from kivy.app import App\n",
        "from kivy.uix.floatlayout import FloatLayout\n",
        "from kivy.properties import ObjectProperty\n",
        "from kivy.uix.popup import Popup\n",
        "from Milestone5 import getRegressionFunction\n",
        "import pandas as pd\n",
        "from io import StringIO\n",
        "import os\n",
        "\n",
        "\n",
        "class LoadDialog(FloatLayout):\n",
        "    load = ObjectProperty(None)\n",
        "    cancel = ObjectProperty(None)\n",
        "\n",
        "\n",
        "class Root(FloatLayout):\n",
        "    loadfile = ObjectProperty(None)\n",
        "    text_input = ObjectProperty(None)\n",
        "\n",
        "    def dismiss_popup(self):\n",
        "        self._popup.dismiss()\n",
        "\n",
        "    def show_load(self):\n",
        "        content = LoadDialog(load=self.load, cancel=self.dismiss_popup)\n",
        "        self._popup = Popup(title=\"Load file\", content=content,\n",
        "                            size_hint=(0.9, 0.9))\n",
        "        self._popup.open()\n",
        "\n",
        "\n",
        "    def load(self, path, filename):\n",
        "        with open(os.path.join(path, filename[0])) as stream:\n",
        "            df = pd.read_csv(StringIO(stream.read()))\n",
        "            result = getRegressionFunction(df)\n",
        "            self.text_input.text = 'y = ' + str(result.M1) + ' * 2 Days moving average + ' + str(result.M2) + ' * 5 days moving average + ' + str(result.C)\n",
        "\n",
        "        self.dismiss_popup()\n",
        "\n",
        "\n",
        "class FirstApp(App):\n",
        "\n",
        "    def build(self):\n",
        "        return Root()\n",
        "\n",
        "\n",
        "if __name__ == '__main__':\n",
        "    FirstApp().run()"
      ],
      "outputs": [],
      "execution_count": null
    }
  ],
  "metadata": {
    "anaconda-cloud": {},
    "kernelspec": {
      "display_name": "Python 3",
      "language": "python",
      "name": "python3"
    },
    "language_info": {
      "codemirror_mode": {
        "name": "ipython",
        "version": 3
      },
      "file_extension": ".py",
      "mimetype": "text/x-python",
      "name": "python",
      "nbconvert_exporter": "python",
      "pygments_lexer": "ipython3",
      "version": "3.6.1"
    }
  },
  "nbformat": 4,
  "nbformat_minor": 1
}