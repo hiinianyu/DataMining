{
  "cells": [
    {
      "cell_type": "code",
      "metadata": {},
      "source": [
        "import pandas as pd\n",
        "import numpy as np\n",
        "from sklearn.linear_model import LinearRegression\n",
        "from math import ceil\n",
        "\n",
        "def getRegressionFunction(dataFrame):\n",
        "  Df = dataFrame\n",
        "    \n",
        "  Df[\"Date\"] = pd.to_datetime(Df[\"Date\"]).dt.strftime('%Y-%m-%d')\n",
        "  Df['Price']=Df['Price'].astype(str).str.replace(',', '').astype(float)\n",
        "  \n",
        "  # create two new columns with lagged terms with different moving window size \n",
        "  Df['S_1'] = Df[\"Price\"].shift(1).rolling(window=2, center = True).mean()\n",
        "  Df['S_2'] = Df[\"Price\"].shift(1).rolling(window=5, center = True).mean()\n",
        "  Df = Df.dropna()\n",
        "  X = Df[['S_1','S_2']]\n",
        "\n",
        "  # dependent variable\n",
        "  y = Df[\"Price\"]\n",
        "\n",
        "  t = 0.9\n",
        "  count = int(ceil(X.shape[0]*t))\n",
        "  X = X.iloc[::-1]\n",
        "  y = y.iloc[::-1]\n",
        "  X_train = X[:count]\n",
        "  X_test = X[count:]\n",
        "  y_train = y[:count]\n",
        "  y_test = y[count:]\n",
        "  # Performing linear regression\n",
        "  linear = LinearRegression().fit(X_train, y_train)\n",
        "  result = Coefficient(round(linear.coef_[0], 2), round(linear.coef_[1], 2), round(linear.intercept_, 2))\n",
        "  # Predict prices\n",
        "  predicted_price = linear.predict(X_test)\n",
        "  predicted_price = pd.DataFrame(predicted_price, index=y_test.index, columns=['price'])\n",
        "  return result\n",
        "\n",
        "class Coefficient:\n",
        "  def __init__(self, M1, M2, C):\n",
        "    self.M1 = M1\n",
        "    self.M2 = M2\n",
        "    self.C = C\n"
      ],
      "outputs": [],
      "execution_count": null
    }
  ],
  "metadata": {
    "anaconda-cloud": {},
    "kernelspec": {
      "display_name": "Python 3",
      "language": "python",
      "name": "python3"
    },
    "language_info": {
      "codemirror_mode": {
        "name": "ipython",
        "version": 3
      },
      "file_extension": ".py",
      "mimetype": "text/x-python",
      "name": "python",
      "nbconvert_exporter": "python",
      "pygments_lexer": "ipython3",
      "version": "3.6.1"
    }
  },
  "nbformat": 4,
  "nbformat_minor": 1
}