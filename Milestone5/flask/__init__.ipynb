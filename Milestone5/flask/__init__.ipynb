{
  "cells": [
    {
      "cell_type": "code",
      "metadata": {},
      "source": [
        "from flask import Flask, render_template, request, redirect\n",
        "import pandas as pd\n",
        "import numpy as np\n",
        "from Milestone5 import getRegressionFunction\n",
        "\n",
        "ALLOWED_EXTENSIONS = {'csv'}\n",
        "\n",
        "app = Flask(__name__)\n",
        "\n",
        "def allowed_file(filename):\n",
        "    return '.' in filename and filename.rsplit('.', 1)[1].lower() in ALLOWED_EXTENSIONS\n",
        "\n",
        "\n",
        "@app.route(\"/\", methods=['GET', 'POST'])\n",
        "def home():\n",
        "    if request.method == 'GET':\n",
        "        return render_template(\"home.html\")\n",
        "    elif request.method == 'POST':\n",
        "        if 'file' not in request.files:\n",
        "            print('failed, no file in request')\n",
        "            return redirect(request.url)\n",
        "        file = request.files['file']\n",
        "\n",
        "        if file.filename == '':\n",
        "            print('failed, no file name')\n",
        "            return redirect(request.url)\n",
        "\n",
        "        if file and allowed_file(file.filename):\n",
        "            print('file read')\n",
        "            dataFrame = pd.read_csv(file)\n",
        "            newFunction = getRegressionFunction(dataFrame)\n",
        "            return render_template(\"input.html\", data = newFunction)\n",
        "\n",
        "@app.route(\"/result\", methods=['POST'])\n",
        "def result():\n",
        "    if request.method == 'POST':\n",
        "        \n",
        "        result = float(request.form.get('M1')) * float(request.form.get('X1')) + float(request.form.get('M2')) * float(request.form.get('X2')) + float(request.form.get('C'))\n",
        "        \n",
        "        return render_template(\"result.html\", X1=request.form.get('X1'), X2=request.form.get('X2'), M1=request.form.get('M1') , M2=request.form.get('M2'), C=request.form.get('C'), result = result)\n",
        "    \n",
        "class DependentVariable:\n",
        "    def __init__(self, X1, X2):\n",
        "        self.X1 = X1\n",
        "        self.X2 = X2\n",
        "\n",
        "\n",
        "if __name__ == \"__main__\":\n",
        "    app.run()"
      ],
      "outputs": [],
      "execution_count": null
    }
  ],
  "metadata": {
    "anaconda-cloud": {},
    "kernelspec": {
      "display_name": "Python 3",
      "language": "python",
      "name": "python3"
    },
    "language_info": {
      "codemirror_mode": {
        "name": "ipython",
        "version": 3
      },
      "file_extension": ".py",
      "mimetype": "text/x-python",
      "name": "python",
      "nbconvert_exporter": "python",
      "pygments_lexer": "ipython3",
      "version": "3.6.1"
    }
  },
  "nbformat": 4,
  "nbformat_minor": 1
}